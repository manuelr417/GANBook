{
 "cells": [
  {
   "cell_type": "code",
   "execution_count": 2,
   "metadata": {},
   "outputs": [
    {
     "name": "stderr",
     "output_type": "stream",
     "text": [
      "Using TensorFlow backend.\n"
     ]
    }
   ],
   "source": [
    "import os\n",
    "from glob import glob\n",
    "import numpy as np\n",
    "\n",
    "from models.VAE import VariationalAutoencoder\n",
    "from keras.preprocessing.image import ImageDataGenerator\n"
   ]
  },
  {
   "cell_type": "code",
   "execution_count": 3,
   "metadata": {},
   "outputs": [],
   "source": [
    "# run params\n",
    "section = 'vae'\n",
    "run_id = '0001'\n",
    "data_name = 'faces'\n",
    "RUN_FOLDER = 'run/{}/'.format(section)\n",
    "RUN_FOLDER += '_'.join([run_id, data_name])\n",
    "\n",
    "if not os.path.exists(RUN_FOLDER):\n",
    "    os.makedirs(RUN_FOLDER) #mkdir\n",
    "    os.makedirs(os.path.join(RUN_FOLDER, 'viz'))\n",
    "    os.makedirs(os.path.join(RUN_FOLDER, 'images'))\n",
    "    os.makedirs(os.path.join(RUN_FOLDER, 'weights'))\n",
    "\n",
    "mode =  'build' #'load' #\n",
    "\n",
    "\n",
    "DATA_FOLDER = './data/celeb/'"
   ]
  },
  {
   "cell_type": "markdown",
   "metadata": {},
   "source": [
    "Data"
   ]
  },
  {
   "cell_type": "code",
   "execution_count": 4,
   "metadata": {},
   "outputs": [
    {
     "name": "stdout",
     "output_type": "stream",
     "text": [
      "DATA_FOLDER:  ./data/celeb/\n",
      "202599\n"
     ]
    }
   ],
   "source": [
    "INPUT_DIM = (128,128,3)\n",
    "BATCH_SIZE = 32\n",
    "\n",
    "filenames = np.array(glob(os.path.join(DATA_FOLDER, '*/*.jpg')))\n",
    "\n",
    "NUM_IMAGES = len(filenames)\n",
    "print('DATA_FOLDER: ', DATA_FOLDER)\n",
    "print (NUM_IMAGES)"
   ]
  },
  {
   "cell_type": "code",
   "execution_count": 5,
   "metadata": {},
   "outputs": [
    {
     "name": "stdout",
     "output_type": "stream",
     "text": [
      "Found 202599 images belonging to 1 classes.\n"
     ]
    }
   ],
   "source": [
    "data_gen = ImageDataGenerator(rescale=1./255)\n",
    "\n",
    "data_flow = data_gen.flow_from_directory(DATA_FOLDER\n",
    "                                         , target_size = INPUT_DIM[:2]\n",
    "                                         , batch_size = BATCH_SIZE\n",
    "                                         , shuffle = True\n",
    "                                         , class_mode = 'input'\n",
    "                                         , subset = \"training\"\n",
    "                                            )"
   ]
  },
  {
   "cell_type": "code",
   "execution_count": 6,
   "metadata": {},
   "outputs": [],
   "source": [
    "vae = VariationalAutoencoder(\n",
    "                input_dim = INPUT_DIM\n",
    "                , encoder_conv_filters=[32,64,64, 64]\n",
    "                , encoder_conv_kernel_size=[3,3,3,3]\n",
    "                , encoder_conv_strides=[2,2,2,2]\n",
    "                , decoder_conv_t_filters=[64,64,32,3]\n",
    "                , decoder_conv_t_kernel_size=[3,3,3,3]\n",
    "                , decoder_conv_t_strides=[2,2,2,2]\n",
    "                , z_dim=200\n",
    "                , use_batch_norm=True\n",
    "                , use_dropout=True)\n",
    "\n",
    "if mode == 'build':\n",
    "    vae.save(RUN_FOLDER)\n",
    "else:\n",
    "    vae.load_weights(os.path.join(RUN_FOLDER, 'weights/weights.h5'))"
   ]
  },
  {
   "cell_type": "code",
   "execution_count": 7,
   "metadata": {},
   "outputs": [
    {
     "name": "stdout",
     "output_type": "stream",
     "text": [
      "Model: \"model_2\"\n",
      "__________________________________________________________________________________________________\n",
      "Layer (type)                    Output Shape         Param #     Connected to                     \n",
      "==================================================================================================\n",
      "encoder_input (InputLayer)      (None, 128, 128, 3)  0                                            \n",
      "__________________________________________________________________________________________________\n",
      "encoder_conv_0 (Conv2D)         (None, 64, 64, 32)   896         encoder_input[0][0]              \n",
      "__________________________________________________________________________________________________\n",
      "batch_normalization_1 (BatchNor (None, 64, 64, 32)   128         encoder_conv_0[0][0]             \n",
      "__________________________________________________________________________________________________\n",
      "leaky_re_lu_1 (LeakyReLU)       (None, 64, 64, 32)   0           batch_normalization_1[0][0]      \n",
      "__________________________________________________________________________________________________\n",
      "dropout_1 (Dropout)             (None, 64, 64, 32)   0           leaky_re_lu_1[0][0]              \n",
      "__________________________________________________________________________________________________\n",
      "encoder_conv_1 (Conv2D)         (None, 32, 32, 64)   18496       dropout_1[0][0]                  \n",
      "__________________________________________________________________________________________________\n",
      "batch_normalization_2 (BatchNor (None, 32, 32, 64)   256         encoder_conv_1[0][0]             \n",
      "__________________________________________________________________________________________________\n",
      "leaky_re_lu_2 (LeakyReLU)       (None, 32, 32, 64)   0           batch_normalization_2[0][0]      \n",
      "__________________________________________________________________________________________________\n",
      "dropout_2 (Dropout)             (None, 32, 32, 64)   0           leaky_re_lu_2[0][0]              \n",
      "__________________________________________________________________________________________________\n",
      "encoder_conv_2 (Conv2D)         (None, 16, 16, 64)   36928       dropout_2[0][0]                  \n",
      "__________________________________________________________________________________________________\n",
      "batch_normalization_3 (BatchNor (None, 16, 16, 64)   256         encoder_conv_2[0][0]             \n",
      "__________________________________________________________________________________________________\n",
      "leaky_re_lu_3 (LeakyReLU)       (None, 16, 16, 64)   0           batch_normalization_3[0][0]      \n",
      "__________________________________________________________________________________________________\n",
      "dropout_3 (Dropout)             (None, 16, 16, 64)   0           leaky_re_lu_3[0][0]              \n",
      "__________________________________________________________________________________________________\n",
      "encoder_conv_3 (Conv2D)         (None, 8, 8, 64)     36928       dropout_3[0][0]                  \n",
      "__________________________________________________________________________________________________\n",
      "batch_normalization_4 (BatchNor (None, 8, 8, 64)     256         encoder_conv_3[0][0]             \n",
      "__________________________________________________________________________________________________\n",
      "leaky_re_lu_4 (LeakyReLU)       (None, 8, 8, 64)     0           batch_normalization_4[0][0]      \n",
      "__________________________________________________________________________________________________\n",
      "dropout_4 (Dropout)             (None, 8, 8, 64)     0           leaky_re_lu_4[0][0]              \n",
      "__________________________________________________________________________________________________\n",
      "flatten_1 (Flatten)             (None, 4096)         0           dropout_4[0][0]                  \n",
      "__________________________________________________________________________________________________\n",
      "mu (Dense)                      (None, 200)          819400      flatten_1[0][0]                  \n",
      "__________________________________________________________________________________________________\n",
      "log_var (Dense)                 (None, 200)          819400      flatten_1[0][0]                  \n",
      "__________________________________________________________________________________________________\n",
      "encoder_output (Lambda)         (None, 200)          0           mu[0][0]                         \n",
      "                                                                 log_var[0][0]                    \n",
      "==================================================================================================\n",
      "Total params: 1,732,944\n",
      "Trainable params: 1,732,496\n",
      "Non-trainable params: 448\n",
      "__________________________________________________________________________________________________\n"
     ]
    }
   ],
   "source": [
    "vae.encoder.summary()"
   ]
  },
  {
   "cell_type": "code",
   "execution_count": 8,
   "metadata": {},
   "outputs": [
    {
     "name": "stdout",
     "output_type": "stream",
     "text": [
      "Model: \"model_3\"\n",
      "_________________________________________________________________\n",
      "Layer (type)                 Output Shape              Param #   \n",
      "=================================================================\n",
      "decoder_input (InputLayer)   (None, 200)               0         \n",
      "_________________________________________________________________\n",
      "dense_1 (Dense)              (None, 4096)              823296    \n",
      "_________________________________________________________________\n",
      "reshape_1 (Reshape)          (None, 8, 8, 64)          0         \n",
      "_________________________________________________________________\n",
      "decoder_conv_t_0 (Conv2DTran (None, 16, 16, 64)        36928     \n",
      "_________________________________________________________________\n",
      "batch_normalization_5 (Batch (None, 16, 16, 64)        256       \n",
      "_________________________________________________________________\n",
      "leaky_re_lu_5 (LeakyReLU)    (None, 16, 16, 64)        0         \n",
      "_________________________________________________________________\n",
      "dropout_5 (Dropout)          (None, 16, 16, 64)        0         \n",
      "_________________________________________________________________\n",
      "decoder_conv_t_1 (Conv2DTran (None, 32, 32, 64)        36928     \n",
      "_________________________________________________________________\n",
      "batch_normalization_6 (Batch (None, 32, 32, 64)        256       \n",
      "_________________________________________________________________\n",
      "leaky_re_lu_6 (LeakyReLU)    (None, 32, 32, 64)        0         \n",
      "_________________________________________________________________\n",
      "dropout_6 (Dropout)          (None, 32, 32, 64)        0         \n",
      "_________________________________________________________________\n",
      "decoder_conv_t_2 (Conv2DTran (None, 64, 64, 32)        18464     \n",
      "_________________________________________________________________\n",
      "batch_normalization_7 (Batch (None, 64, 64, 32)        128       \n",
      "_________________________________________________________________\n",
      "leaky_re_lu_7 (LeakyReLU)    (None, 64, 64, 32)        0         \n",
      "_________________________________________________________________\n",
      "dropout_7 (Dropout)          (None, 64, 64, 32)        0         \n",
      "_________________________________________________________________\n",
      "decoder_conv_t_3 (Conv2DTran (None, 128, 128, 3)       867       \n",
      "_________________________________________________________________\n",
      "activation_1 (Activation)    (None, 128, 128, 3)       0         \n",
      "=================================================================\n",
      "Total params: 917,123\n",
      "Trainable params: 916,803\n",
      "Non-trainable params: 320\n",
      "_________________________________________________________________\n"
     ]
    }
   ],
   "source": [
    "vae.decoder.summary()"
   ]
  },
  {
   "cell_type": "code",
   "execution_count": 9,
   "metadata": {},
   "outputs": [],
   "source": [
    "LEARNING_RATE = 0.0005\n",
    "R_LOSS_FACTOR = 10000\n",
    "EPOCHS = 200\n",
    "PRINT_EVERY_N_BATCHES = 100\n",
    "INITIAL_EPOCH = 0"
   ]
  },
  {
   "cell_type": "code",
   "execution_count": 10,
   "metadata": {},
   "outputs": [],
   "source": [
    "vae.compile(LEARNING_RATE, R_LOSS_FACTOR)"
   ]
  },
  {
   "cell_type": "code",
   "execution_count": null,
   "metadata": {},
   "outputs": [
    {
     "name": "stdout",
     "output_type": "stream",
     "text": [
      "Epoch 1/200\n",
      "  11/6331 [..............................] - ETA: 33:25 - loss: 1265.0407 - vae_r_loss: 1083.3250 - vae_kl_loss: 181.7158 "
     ]
    },
    {
     "name": "stderr",
     "output_type": "stream",
     "text": [
      "/mnt/volume/anaconda3/lib/python3.7/site-packages/keras/callbacks/callbacks.py:95: RuntimeWarning: Method (on_train_batch_end) is slow compared to the batch update (0.117715). Check your callbacks.\n",
      "  % (hook_name, delta_t_median), RuntimeWarning)\n"
     ]
    },
    {
     "name": "stdout",
     "output_type": "stream",
     "text": [
      "6332/6331 [==============================] - 184s 29ms/step - loss: 274.3756 - vae_r_loss: 212.0930 - vae_kl_loss: 62.2740\n",
      "\n",
      "Epoch 00001: saving model to run/vae/0001_faces/weights/weights-001-274.37.h5\n",
      "\n",
      "Epoch 00001: saving model to run/vae/0001_faces/weights/weights.h5\n",
      "Epoch 2/200\n",
      "6332/6331 [==============================] - 174s 28ms/step - loss: 233.5665 - vae_r_loss: 174.9966 - vae_kl_loss: 58.5737\n",
      "\n",
      "Epoch 00002: saving model to run/vae/0001_faces/weights/weights-002-233.57.h5\n",
      "\n",
      "Epoch 00002: saving model to run/vae/0001_faces/weights/weights.h5\n",
      "Epoch 3/200\n",
      "6332/6331 [==============================] - 177s 28ms/step - loss: 228.6667 - vae_r_loss: 169.6392 - vae_kl_loss: 59.0257\n",
      "\n",
      "Epoch 00003: saving model to run/vae/0001_faces/weights/weights-003-228.67.h5\n",
      "\n",
      "Epoch 00003: saving model to run/vae/0001_faces/weights/weights.h5\n",
      "Epoch 4/200\n",
      "6332/6331 [==============================] - 169s 27ms/step - loss: 226.3677 - vae_r_loss: 167.1891 - vae_kl_loss: 59.1714\n",
      "\n",
      "Epoch 00004: saving model to run/vae/0001_faces/weights/weights-004-226.36.h5\n",
      "\n",
      "Epoch 00004: saving model to run/vae/0001_faces/weights/weights.h5\n",
      "Epoch 5/200\n",
      "6332/6331 [==============================] - 177s 28ms/step - loss: 224.8384 - vae_r_loss: 165.6971 - vae_kl_loss: 59.1412\n",
      "\n",
      "Epoch 00005: saving model to run/vae/0001_faces/weights/weights-005-224.84.h5\n",
      "\n",
      "Epoch 00005: saving model to run/vae/0001_faces/weights/weights.h5\n",
      "Epoch 6/200\n",
      "6332/6331 [==============================] - 177s 28ms/step - loss: 223.8860 - vae_r_loss: 164.7846 - vae_kl_loss: 59.0847\n",
      "\n",
      "Epoch 00006: saving model to run/vae/0001_faces/weights/weights-006-223.87.h5\n",
      "\n",
      "Epoch 00006: saving model to run/vae/0001_faces/weights/weights.h5\n",
      "Epoch 7/200\n",
      "6332/6331 [==============================] - 170s 27ms/step - loss: 223.0844 - vae_r_loss: 164.0506 - vae_kl_loss: 59.0306\n",
      "\n",
      "Epoch 00007: saving model to run/vae/0001_faces/weights/weights-007-223.08.h5\n",
      "\n",
      "Epoch 00007: saving model to run/vae/0001_faces/weights/weights.h5\n",
      "Epoch 8/200\n",
      "6332/6331 [==============================] - 167s 26ms/step - loss: 222.5138 - vae_r_loss: 163.4902 - vae_kl_loss: 59.0266\n",
      "\n",
      "Epoch 00008: saving model to run/vae/0001_faces/weights/weights-008-222.52.h5\n",
      "\n",
      "Epoch 00008: saving model to run/vae/0001_faces/weights/weights.h5\n",
      "Epoch 9/200\n",
      "6332/6331 [==============================] - 170s 27ms/step - loss: 221.9787 - vae_r_loss: 163.0100 - vae_kl_loss: 58.9662\n",
      "\n",
      "Epoch 00009: saving model to run/vae/0001_faces/weights/weights-009-221.98.h5\n",
      "\n",
      "Epoch 00009: saving model to run/vae/0001_faces/weights/weights.h5\n",
      "Epoch 10/200\n",
      "6332/6331 [==============================] - 166s 26ms/step - loss: 221.6944 - vae_r_loss: 162.7154 - vae_kl_loss: 58.9716\n",
      "\n",
      "Epoch 00010: saving model to run/vae/0001_faces/weights/weights-010-221.69.h5\n",
      "\n",
      "Epoch 00010: saving model to run/vae/0001_faces/weights/weights.h5\n",
      "Epoch 11/200\n",
      "6332/6331 [==============================] - 168s 27ms/step - loss: 221.3378 - vae_r_loss: 162.3851 - vae_kl_loss: 58.9548\n",
      "\n",
      "Epoch 00011: saving model to run/vae/0001_faces/weights/weights-011-221.34.h5\n",
      "\n",
      "Epoch 00011: saving model to run/vae/0001_faces/weights/weights.h5\n",
      "Epoch 12/200\n",
      "6332/6331 [==============================] - 176s 28ms/step - loss: 221.0680 - vae_r_loss: 162.1349 - vae_kl_loss: 58.9366\n",
      "\n",
      "Epoch 00012: saving model to run/vae/0001_faces/weights/weights-012-221.07.h5\n",
      "\n",
      "Epoch 00012: saving model to run/vae/0001_faces/weights/weights.h5\n",
      "Epoch 13/200\n",
      "1726/6331 [=======>......................] - ETA: 2:07 - loss: 221.0013 - vae_r_loss: 162.0375 - vae_kl_loss: 58.9696"
     ]
    }
   ],
   "source": [
    "vae.train_with_generator(     \n",
    "    data_flow\n",
    "    , epochs = EPOCHS\n",
    "    , steps_per_epoch = NUM_IMAGES / BATCH_SIZE\n",
    "    , run_folder = RUN_FOLDER\n",
    "    , print_every_n_batches = PRINT_EVERY_N_BATCHES\n",
    "    , initial_epoch = INITIAL_EPOCH\n",
    ")"
   ]
  },
  {
   "cell_type": "code",
   "execution_count": null,
   "metadata": {},
   "outputs": [],
   "source": []
  }
 ],
 "metadata": {
  "kernelspec": {
   "display_name": "Python 3",
   "language": "python",
   "name": "python3"
  },
  "language_info": {
   "codemirror_mode": {
    "name": "ipython",
    "version": 3
   },
   "file_extension": ".py",
   "mimetype": "text/x-python",
   "name": "python",
   "nbconvert_exporter": "python",
   "pygments_lexer": "ipython3",
   "version": "3.7.6"
  }
 },
 "nbformat": 4,
 "nbformat_minor": 4
}
